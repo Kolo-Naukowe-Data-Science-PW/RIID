{
 "metadata": {
  "language_info": {
   "codemirror_mode": {
    "name": "ipython",
    "version": 3
   },
   "file_extension": ".py",
   "mimetype": "text/x-python",
   "name": "python",
   "nbconvert_exporter": "python",
   "pygments_lexer": "ipython3",
   "version": "3.8.6-candidate"
  },
  "orig_nbformat": 2,
  "kernelspec": {
   "name": "python3",
   "display_name": "Python 3",
   "language": "python"
  }
 },
 "nbformat": 4,
 "nbformat_minor": 2,
 "cells": [
  {
   "source": [
    "## Create a single csv from train-sample.csv and questions.csv"
   ],
   "cell_type": "markdown",
   "metadata": {}
  },
  {
   "cell_type": "code",
   "execution_count": 2,
   "metadata": {},
   "outputs": [],
   "source": [
    "import pandas as pd\n",
    "\n",
    "df_train = pd.read_csv('train-sample.csv')\n",
    "df_questions = pd.read_csv('riiid-test-answer-prediction/questions.csv')\n",
    "df_lectures = pd.read_csv('riiid-test-answer-prediction/lectures.csv')"
   ]
  },
  {
   "cell_type": "code",
   "execution_count": 15,
   "metadata": {},
   "outputs": [],
   "source": [
    "tmp = df_questions.rename(columns={'question_id':'content_id'})\n",
    "df_combined = df_train.join(tmp.set_index('content_id'), on='content_id')\n",
    "df_combined = df_combined.assign(tags=df_combined['tags'].str.split(' ')).explode('tags')\n",
    "df_combined.drop(['bundle_id'], axis=1, inplace=True) #remove duplicate column"
   ]
  },
  {
   "cell_type": "code",
   "execution_count": 16,
   "metadata": {},
   "outputs": [
    {
     "output_type": "execute_result",
     "data": {
      "text/plain": [
       "   row_id   timestamp  user_id  content_id  content_type_id  \\\n",
       "0  373315    39668282  7171715        3693                0   \n",
       "1  459286           0  9143398        4727                0   \n",
       "2  262398  3341125071  4980312        1250                0   \n",
       "2  262398  3341125071  4980312        1250                0   \n",
       "2  262398  3341125071  4980312        1250                0   \n",
       "\n",
       "   task_container_id  user_answer  answered_correctly  \\\n",
       "0               4086            0                   1   \n",
       "1                  0            2                   0   \n",
       "2                493            0                   0   \n",
       "2                493            0                   0   \n",
       "2                493            0                   0   \n",
       "\n",
       "   prior_question_elapsed_time prior_question_had_explanation  correct_answer  \\\n",
       "0                          0.0                           True             0.0   \n",
       "1                          NaN                            NaN             0.0   \n",
       "2                      13000.0                           True             1.0   \n",
       "2                      13000.0                           True             1.0   \n",
       "2                      13000.0                           True             1.0   \n",
       "\n",
       "   part tags  \n",
       "0   5.0  109  \n",
       "1   5.0  116  \n",
       "2   2.0   62  \n",
       "2   2.0  148  \n",
       "2   2.0   32  "
      ],
      "text/html": "<div>\n<style scoped>\n    .dataframe tbody tr th:only-of-type {\n        vertical-align: middle;\n    }\n\n    .dataframe tbody tr th {\n        vertical-align: top;\n    }\n\n    .dataframe thead th {\n        text-align: right;\n    }\n</style>\n<table border=\"1\" class=\"dataframe\">\n  <thead>\n    <tr style=\"text-align: right;\">\n      <th></th>\n      <th>row_id</th>\n      <th>timestamp</th>\n      <th>user_id</th>\n      <th>content_id</th>\n      <th>content_type_id</th>\n      <th>task_container_id</th>\n      <th>user_answer</th>\n      <th>answered_correctly</th>\n      <th>prior_question_elapsed_time</th>\n      <th>prior_question_had_explanation</th>\n      <th>correct_answer</th>\n      <th>part</th>\n      <th>tags</th>\n    </tr>\n  </thead>\n  <tbody>\n    <tr>\n      <th>0</th>\n      <td>373315</td>\n      <td>39668282</td>\n      <td>7171715</td>\n      <td>3693</td>\n      <td>0</td>\n      <td>4086</td>\n      <td>0</td>\n      <td>1</td>\n      <td>0.0</td>\n      <td>True</td>\n      <td>0.0</td>\n      <td>5.0</td>\n      <td>109</td>\n    </tr>\n    <tr>\n      <th>1</th>\n      <td>459286</td>\n      <td>0</td>\n      <td>9143398</td>\n      <td>4727</td>\n      <td>0</td>\n      <td>0</td>\n      <td>2</td>\n      <td>0</td>\n      <td>NaN</td>\n      <td>NaN</td>\n      <td>0.0</td>\n      <td>5.0</td>\n      <td>116</td>\n    </tr>\n    <tr>\n      <th>2</th>\n      <td>262398</td>\n      <td>3341125071</td>\n      <td>4980312</td>\n      <td>1250</td>\n      <td>0</td>\n      <td>493</td>\n      <td>0</td>\n      <td>0</td>\n      <td>13000.0</td>\n      <td>True</td>\n      <td>1.0</td>\n      <td>2.0</td>\n      <td>62</td>\n    </tr>\n    <tr>\n      <th>2</th>\n      <td>262398</td>\n      <td>3341125071</td>\n      <td>4980312</td>\n      <td>1250</td>\n      <td>0</td>\n      <td>493</td>\n      <td>0</td>\n      <td>0</td>\n      <td>13000.0</td>\n      <td>True</td>\n      <td>1.0</td>\n      <td>2.0</td>\n      <td>148</td>\n    </tr>\n    <tr>\n      <th>2</th>\n      <td>262398</td>\n      <td>3341125071</td>\n      <td>4980312</td>\n      <td>1250</td>\n      <td>0</td>\n      <td>493</td>\n      <td>0</td>\n      <td>0</td>\n      <td>13000.0</td>\n      <td>True</td>\n      <td>1.0</td>\n      <td>2.0</td>\n      <td>32</td>\n    </tr>\n  </tbody>\n</table>\n</div>"
     },
     "metadata": {},
     "execution_count": 16
    }
   ],
   "source": [
    "df_combined.head()"
   ]
  },
  {
   "cell_type": "code",
   "execution_count": 19,
   "metadata": {},
   "outputs": [],
   "source": [
    "df_combined.to_csv('train-sample-with-questions.csv',index=False)"
   ]
  }
 ]
}