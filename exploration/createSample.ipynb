{
 "metadata": {
  "language_info": {
   "codemirror_mode": {
    "name": "ipython",
    "version": 3
   },
   "file_extension": ".py",
   "mimetype": "text/x-python",
   "name": "python",
   "nbconvert_exporter": "python",
   "pygments_lexer": "ipython3",
   "version": "3.8.6-candidate"
  },
  "orig_nbformat": 2,
  "kernelspec": {
   "name": "python3",
   "display_name": "Python 3",
   "language": "python"
  }
 },
 "nbformat": 4,
 "nbformat_minor": 2,
 "cells": [
  {
   "source": [
    "# Extracting sample data with Pandas\n",
    "\n",
    "Whole file is waaay to big to use pd.read_csv() so instead I read it chunk by chunk and from each chunk I take a small sample to create a smaller dataset\n",
    "\n",
    "To somehow compare sample and all data, I compared mean of 'answered_correctly' column:\n",
    "\n",
    "for whole data mean is: 0.625164\n",
    "\n",
    "for the sample mean is: 0.625582\n",
    "\n",
    "absolute difference is: 4.18e-4"
   ],
   "cell_type": "markdown",
   "metadata": {}
  },
  {
   "source": [
    "import pandas as pd\n",
    "import math\n",
    "\n",
    "TOTAL_ROWS = 101230332\n",
    "CHUNK_SIZE = 1000000 # in rows\n",
    "SAMPLE_FRAC = 0.01\n",
    "SEED = 123\n",
    "NUM_OF_CHUNKS = math.ceil(TOTAL_ROWS / CHUNK_SIZE)"
   ],
   "cell_type": "code",
   "metadata": {},
   "execution_count": 1,
   "outputs": []
  },
  {
   "cell_type": "code",
   "execution_count": 2,
   "metadata": {},
   "outputs": [],
   "source": [
    "chunks = pd.read_csv('riiid-test-answer-prediction/train.csv', chunksize=CHUNK_SIZE)"
   ]
  },
  {
   "source": [
    "listOfChunks = []\n",
    "for i, chunk in enumerate(chunks):\n",
    "    listOfChunks.append(chunk.sample(frac=SAMPLE_FRAC, random_state=SEED))\n",
    "    print(\"Processed \" + str(i+1) + \" out of \" + str(NUM_OF_CHUNKS) + \" chunks.\")\n",
    "df = pd.concat(listOfChunks)"
   ],
   "cell_type": "code",
   "metadata": {},
   "execution_count": 3,
   "outputs": [
    {
     "output_type": "stream",
     "name": "stdout",
     "text": [
      "Processed 1 out of 102 chunks.\n",
      "Processed 2 out of 102 chunks.\n",
      "Processed 3 out of 102 chunks.\n",
      "Processed 4 out of 102 chunks.\n",
      "Processed 5 out of 102 chunks.\n",
      "Processed 6 out of 102 chunks.\n",
      "Processed 7 out of 102 chunks.\n",
      "Processed 8 out of 102 chunks.\n",
      "Processed 9 out of 102 chunks.\n",
      "Processed 10 out of 102 chunks.\n",
      "Processed 11 out of 102 chunks.\n",
      "Processed 12 out of 102 chunks.\n",
      "Processed 13 out of 102 chunks.\n",
      "Processed 14 out of 102 chunks.\n",
      "Processed 15 out of 102 chunks.\n",
      "Processed 16 out of 102 chunks.\n",
      "Processed 17 out of 102 chunks.\n",
      "Processed 18 out of 102 chunks.\n",
      "Processed 19 out of 102 chunks.\n",
      "Processed 20 out of 102 chunks.\n",
      "Processed 21 out of 102 chunks.\n",
      "Processed 22 out of 102 chunks.\n",
      "Processed 23 out of 102 chunks.\n",
      "Processed 24 out of 102 chunks.\n",
      "Processed 25 out of 102 chunks.\n",
      "Processed 26 out of 102 chunks.\n",
      "Processed 27 out of 102 chunks.\n",
      "Processed 28 out of 102 chunks.\n",
      "Processed 29 out of 102 chunks.\n",
      "Processed 30 out of 102 chunks.\n",
      "Processed 31 out of 102 chunks.\n",
      "Processed 32 out of 102 chunks.\n",
      "Processed 33 out of 102 chunks.\n",
      "Processed 34 out of 102 chunks.\n",
      "Processed 35 out of 102 chunks.\n",
      "Processed 36 out of 102 chunks.\n",
      "Processed 37 out of 102 chunks.\n",
      "Processed 38 out of 102 chunks.\n",
      "Processed 39 out of 102 chunks.\n",
      "Processed 40 out of 102 chunks.\n",
      "Processed 41 out of 102 chunks.\n",
      "Processed 42 out of 102 chunks.\n",
      "Processed 43 out of 102 chunks.\n",
      "Processed 44 out of 102 chunks.\n",
      "Processed 45 out of 102 chunks.\n",
      "Processed 46 out of 102 chunks.\n",
      "Processed 47 out of 102 chunks.\n",
      "Processed 48 out of 102 chunks.\n",
      "Processed 49 out of 102 chunks.\n",
      "Processed 50 out of 102 chunks.\n",
      "Processed 51 out of 102 chunks.\n",
      "Processed 52 out of 102 chunks.\n",
      "Processed 53 out of 102 chunks.\n",
      "Processed 54 out of 102 chunks.\n",
      "Processed 55 out of 102 chunks.\n",
      "Processed 56 out of 102 chunks.\n",
      "Processed 57 out of 102 chunks.\n",
      "Processed 58 out of 102 chunks.\n",
      "Processed 59 out of 102 chunks.\n",
      "Processed 60 out of 102 chunks.\n",
      "Processed 61 out of 102 chunks.\n",
      "Processed 62 out of 102 chunks.\n",
      "Processed 63 out of 102 chunks.\n",
      "Processed 64 out of 102 chunks.\n",
      "Processed 65 out of 102 chunks.\n",
      "Processed 66 out of 102 chunks.\n",
      "Processed 67 out of 102 chunks.\n",
      "Processed 68 out of 102 chunks.\n",
      "Processed 69 out of 102 chunks.\n",
      "Processed 70 out of 102 chunks.\n",
      "Processed 71 out of 102 chunks.\n",
      "Processed 72 out of 102 chunks.\n",
      "Processed 73 out of 102 chunks.\n",
      "Processed 74 out of 102 chunks.\n",
      "Processed 75 out of 102 chunks.\n",
      "Processed 76 out of 102 chunks.\n",
      "Processed 77 out of 102 chunks.\n",
      "Processed 78 out of 102 chunks.\n",
      "Processed 79 out of 102 chunks.\n",
      "Processed 80 out of 102 chunks.\n",
      "Processed 81 out of 102 chunks.\n",
      "Processed 82 out of 102 chunks.\n",
      "Processed 83 out of 102 chunks.\n",
      "Processed 84 out of 102 chunks.\n",
      "Processed 85 out of 102 chunks.\n",
      "Processed 86 out of 102 chunks.\n",
      "Processed 87 out of 102 chunks.\n",
      "Processed 88 out of 102 chunks.\n",
      "Processed 89 out of 102 chunks.\n",
      "Processed 90 out of 102 chunks.\n",
      "Processed 91 out of 102 chunks.\n",
      "Processed 92 out of 102 chunks.\n",
      "Processed 93 out of 102 chunks.\n",
      "Processed 94 out of 102 chunks.\n",
      "Processed 95 out of 102 chunks.\n",
      "Processed 96 out of 102 chunks.\n",
      "Processed 97 out of 102 chunks.\n",
      "Processed 98 out of 102 chunks.\n",
      "Processed 99 out of 102 chunks.\n",
      "Processed 100 out of 102 chunks.\n",
      "Processed 101 out of 102 chunks.\n",
      "Processed 102 out of 102 chunks.\n"
     ]
    }
   ]
  },
  {
   "cell_type": "code",
   "execution_count": 4,
   "metadata": {},
   "outputs": [],
   "source": [
    "df.to_csv('train-sample.csv',index=False)"
   ]
  },
  {
   "cell_type": "code",
   "execution_count": 5,
   "metadata": {},
   "outputs": [
    {
     "output_type": "execute_result",
     "data": {
      "text/plain": [
       "answered_correctly    0.625582\n",
       "dtype: float64"
      ]
     },
     "metadata": {},
     "execution_count": 5
    }
   ],
   "source": [
    "# compare result below with 0.625164 (result after reading whole dataset)\n",
    "df[[\"answered_correctly\"]].mean()"
   ]
  }
 ]
}